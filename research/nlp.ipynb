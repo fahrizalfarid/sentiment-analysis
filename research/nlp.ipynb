{
 "cells": [
  {
   "cell_type": "code",
   "execution_count": null,
   "metadata": {},
   "outputs": [],
   "source": [
    "# !pip install --upgrade pip\n",
    "# !pip install sastrawi scikit-learn seaborn tqdm\n",
    "# !pip install tensorflow-gpu==1.14 flask"
   ]
  },
  {
   "cell_type": "code",
   "execution_count": 180,
   "metadata": {},
   "outputs": [],
   "source": [
    "import pandas as pd\n",
    "import numpy as np\n",
    "import matplotlib.pyplot as plt\n",
    "import seaborn as sns\n",
    "\n",
    "\n",
    "from sklearn.metrics import plot_confusion_matrix\n",
    "from sklearn.neural_network import MLPClassifier\n",
    "\n",
    "import re\n",
    "import pickle\n",
    "from Sastrawi.StopWordRemover.StopWordRemoverFactory import StopWordRemoverFactory\n",
    "from Sastrawi.Stemmer.StemmerFactory import StemmerFactory\n",
    "from sklearn.preprocessing import LabelEncoder\n",
    "\n",
    "\n",
    "from sklearn.feature_extraction.text import TfidfVectorizer\n",
    "from sklearn.metrics import classification_report\n",
    "from sklearn.metrics import accuracy_score\n",
    "\n",
    "\n",
    "from sklearn.naive_bayes import MultinomialNB\n",
    "from sklearn.linear_model import LogisticRegression\n",
    "from sklearn.model_selection import train_test_split\n",
    "from sklearn.pipeline import Pipeline\n",
    "\n",
    "\n",
    "from tensorflow.keras.models import Sequential, load_model\n",
    "from tensorflow.keras.layers import (\n",
    "    Dense, LSTM, Embedding, Dropout, \n",
    "    GlobalAveragePooling1D, Bidirectional,\n",
    "    Flatten, Conv1D, GlobalMaxPooling1D,\n",
    "    SpatialDropout1D\n",
    ")\n",
    "from tensorflow.keras.preprocessing.text import Tokenizer\n",
    "from tensorflow.keras.preprocessing.sequence import pad_sequences\n",
    "from tensorflow.keras.callbacks import EarlyStopping, ModelCheckpoint\n",
    "\n",
    "\n",
    "plt.close(\"all\")\n",
    "\n",
    "factory = StemmerFactory()\n",
    "stemmer = factory.create_stemmer()\n",
    "\n",
    "factory_stopword = StopWordRemoverFactory()\n",
    "stopword = factory_stopword.create_stop_word_remover()"
   ]
  },
  {
   "cell_type": "code",
   "execution_count": 159,
   "metadata": {},
   "outputs": [],
   "source": [
    "data = pd.read_csv(\"../tbl_cnn.csv\",delimiter=',')"
   ]
  },
  {
   "cell_type": "code",
   "execution_count": 160,
   "metadata": {},
   "outputs": [
    {
     "data": {
      "text/html": [
       "<div>\n",
       "<style scoped>\n",
       "    .dataframe tbody tr th:only-of-type {\n",
       "        vertical-align: middle;\n",
       "    }\n",
       "\n",
       "    .dataframe tbody tr th {\n",
       "        vertical-align: top;\n",
       "    }\n",
       "\n",
       "    .dataframe thead th {\n",
       "        text-align: right;\n",
       "    }\n",
       "</style>\n",
       "<table border=\"1\" class=\"dataframe\">\n",
       "  <thead>\n",
       "    <tr style=\"text-align: right;\">\n",
       "      <th></th>\n",
       "      <th>_id</th>\n",
       "      <th>author</th>\n",
       "      <th>content</th>\n",
       "      <th>publishedAt</th>\n",
       "      <th>slug</th>\n",
       "      <th>source</th>\n",
       "      <th>tag</th>\n",
       "      <th>title</th>\n",
       "      <th>url</th>\n",
       "      <th>urlToImage</th>\n",
       "    </tr>\n",
       "  </thead>\n",
       "  <tbody>\n",
       "    <tr>\n",
       "      <th>0</th>\n",
       "      <td>610a281ce12961efb18c37ff</td>\n",
       "      <td>CNN Indonesia</td>\n",
       "      <td>Menteri Ketenagakerjaan (Menaker) Ida Fauziyah...</td>\n",
       "      <td>2021-08-04 12:28</td>\n",
       "      <td>3-beda-blt-subsidi-gaji-2021-vs-2020</td>\n",
       "      <td>CNN Indonesia</td>\n",
       "      <td>blt, bsu</td>\n",
       "      <td>3 Beda BLT Subsidi Gaji 2021 vs 2020</td>\n",
       "      <td>https://www.cnnindonesia.com/ekonomi/202108041...</td>\n",
       "      <td>https://akcdn.detik.net.id/visual/2020/08/11/i...</td>\n",
       "    </tr>\n",
       "    <tr>\n",
       "      <th>1</th>\n",
       "      <td>610a281ce12961efb18c3800</td>\n",
       "      <td>CNN Indonesia</td>\n",
       "      <td>Anggota Komisi II DPR Fraksi Golkar Zulfikar A...</td>\n",
       "      <td>2021-08-04 12:22</td>\n",
       "      <td>tinggi-kematian-jateng-dalam-sebulan-sinyal-kr...</td>\n",
       "      <td>CNN Indonesia</td>\n",
       "      <td>pesawat presiden</td>\n",
       "      <td>Tinggi Kematian Jateng dalam Sebulan, Sinyal K...</td>\n",
       "      <td>https://www.cnnindonesia.com/nasional/20210804...</td>\n",
       "      <td>https://akcdn.detik.net.id/visual/2021/08/03/p...</td>\n",
       "    </tr>\n",
       "    <tr>\n",
       "      <th>2</th>\n",
       "      <td>610a281ce12961efb18c3801</td>\n",
       "      <td>CNN Indonesia</td>\n",
       "      <td>Harga Batu bara Acuan (HBA) menguat 13,55 pers...</td>\n",
       "      <td>2021-08-04 09:50</td>\n",
       "      <td>harga-batu-bara-acuan-tembus-us13099-per-ton-a...</td>\n",
       "      <td>CNN Indonesia</td>\n",
       "      <td>batu bara, harga batu bara acuan</td>\n",
       "      <td>Harga Batu Bara Acuan Tembus US$130,99 per Ton...</td>\n",
       "      <td>https://www.cnnindonesia.com/ekonomi/202108040...</td>\n",
       "      <td>https://akcdn.detik.net.id/visual/2019/11/11/4...</td>\n",
       "    </tr>\n",
       "    <tr>\n",
       "      <th>3</th>\n",
       "      <td>610a281ce12961efb18c3802</td>\n",
       "      <td>CNN Indonesia</td>\n",
       "      <td>Capaian jumlah vaksinasi Covid-19 di Indonesia...</td>\n",
       "      <td>2021-08-04 12:06</td>\n",
       "      <td>china-tes-covid-massal-deteksi-kasus-tertinggi...</td>\n",
       "      <td>CNN Indonesia</td>\n",
       "      <td>vaksin, vaksinasi, covid-19, virus corona, epi...</td>\n",
       "      <td>China Tes Covid Massal, Deteksi Kasus Tertingg...</td>\n",
       "      <td>https://www.cnnindonesia.com/nasional/20210804...</td>\n",
       "      <td>https://akcdn.detik.net.id/visual/2021/08/03/v...</td>\n",
       "    </tr>\n",
       "    <tr>\n",
       "      <th>4</th>\n",
       "      <td>610a281ce12961efb18c3803</td>\n",
       "      <td>BNPB</td>\n",
       "      <td>Badan Nasional Penanggulangan Bencana (BNPB) m...</td>\n",
       "      <td>2021-08-04 09:00</td>\n",
       "      <td>bnpb-kirim-masker-dan-tabung-oksigen-ke-papua-...</td>\n",
       "      <td>CNN Indonesia</td>\n",
       "      <td>bnpb, ingat pesan ibu, papua barat, penanganan...</td>\n",
       "      <td>BNPB Kirim Masker dan Tabung Oksigen ke Papua ...</td>\n",
       "      <td>https://www.cnnindonesia.com/nasional/20210803...</td>\n",
       "      <td>https://akcdn.detik.net.id/visual/2021/07/29/k...</td>\n",
       "    </tr>\n",
       "  </tbody>\n",
       "</table>\n",
       "</div>"
      ],
      "text/plain": [
       "                        _id         author  \\\n",
       "0  610a281ce12961efb18c37ff  CNN Indonesia   \n",
       "1  610a281ce12961efb18c3800  CNN Indonesia   \n",
       "2  610a281ce12961efb18c3801  CNN Indonesia   \n",
       "3  610a281ce12961efb18c3802  CNN Indonesia   \n",
       "4  610a281ce12961efb18c3803           BNPB   \n",
       "\n",
       "                                             content       publishedAt  \\\n",
       "0  Menteri Ketenagakerjaan (Menaker) Ida Fauziyah...  2021-08-04 12:28   \n",
       "1  Anggota Komisi II DPR Fraksi Golkar Zulfikar A...  2021-08-04 12:22   \n",
       "2  Harga Batu bara Acuan (HBA) menguat 13,55 pers...  2021-08-04 09:50   \n",
       "3  Capaian jumlah vaksinasi Covid-19 di Indonesia...  2021-08-04 12:06   \n",
       "4  Badan Nasional Penanggulangan Bencana (BNPB) m...  2021-08-04 09:00   \n",
       "\n",
       "                                                slug         source  \\\n",
       "0               3-beda-blt-subsidi-gaji-2021-vs-2020  CNN Indonesia   \n",
       "1  tinggi-kematian-jateng-dalam-sebulan-sinyal-kr...  CNN Indonesia   \n",
       "2  harga-batu-bara-acuan-tembus-us13099-per-ton-a...  CNN Indonesia   \n",
       "3  china-tes-covid-massal-deteksi-kasus-tertinggi...  CNN Indonesia   \n",
       "4  bnpb-kirim-masker-dan-tabung-oksigen-ke-papua-...  CNN Indonesia   \n",
       "\n",
       "                                                 tag  \\\n",
       "0                                           blt, bsu   \n",
       "1                                   pesawat presiden   \n",
       "2                   batu bara, harga batu bara acuan   \n",
       "3  vaksin, vaksinasi, covid-19, virus corona, epi...   \n",
       "4  bnpb, ingat pesan ibu, papua barat, penanganan...   \n",
       "\n",
       "                                               title  \\\n",
       "0               3 Beda BLT Subsidi Gaji 2021 vs 2020   \n",
       "1  Tinggi Kematian Jateng dalam Sebulan, Sinyal K...   \n",
       "2  Harga Batu Bara Acuan Tembus US$130,99 per Ton...   \n",
       "3  China Tes Covid Massal, Deteksi Kasus Tertingg...   \n",
       "4  BNPB Kirim Masker dan Tabung Oksigen ke Papua ...   \n",
       "\n",
       "                                                 url  \\\n",
       "0  https://www.cnnindonesia.com/ekonomi/202108041...   \n",
       "1  https://www.cnnindonesia.com/nasional/20210804...   \n",
       "2  https://www.cnnindonesia.com/ekonomi/202108040...   \n",
       "3  https://www.cnnindonesia.com/nasional/20210804...   \n",
       "4  https://www.cnnindonesia.com/nasional/20210803...   \n",
       "\n",
       "                                          urlToImage  \n",
       "0  https://akcdn.detik.net.id/visual/2020/08/11/i...  \n",
       "1  https://akcdn.detik.net.id/visual/2021/08/03/p...  \n",
       "2  https://akcdn.detik.net.id/visual/2019/11/11/4...  \n",
       "3  https://akcdn.detik.net.id/visual/2021/08/03/v...  \n",
       "4  https://akcdn.detik.net.id/visual/2021/07/29/k...  "
      ]
     },
     "execution_count": 160,
     "metadata": {},
     "output_type": "execute_result"
    }
   ],
   "source": [
    "data.head()"
   ]
  },
  {
   "cell_type": "markdown",
   "metadata": {},
   "source": [
    "# fetch required columns (remove unneeded ones)"
   ]
  },
  {
   "cell_type": "code",
   "execution_count": 161,
   "metadata": {},
   "outputs": [],
   "source": [
    "data_ = data.drop(data.columns[[0, 1, 4, 5, 8, 9]], axis=1)"
   ]
  },
  {
   "cell_type": "code",
   "execution_count": 162,
   "metadata": {},
   "outputs": [
    {
     "data": {
      "text/html": [
       "<div>\n",
       "<style scoped>\n",
       "    .dataframe tbody tr th:only-of-type {\n",
       "        vertical-align: middle;\n",
       "    }\n",
       "\n",
       "    .dataframe tbody tr th {\n",
       "        vertical-align: top;\n",
       "    }\n",
       "\n",
       "    .dataframe thead th {\n",
       "        text-align: right;\n",
       "    }\n",
       "</style>\n",
       "<table border=\"1\" class=\"dataframe\">\n",
       "  <thead>\n",
       "    <tr style=\"text-align: right;\">\n",
       "      <th></th>\n",
       "      <th>content</th>\n",
       "      <th>publishedAt</th>\n",
       "      <th>tag</th>\n",
       "      <th>title</th>\n",
       "    </tr>\n",
       "  </thead>\n",
       "  <tbody>\n",
       "    <tr>\n",
       "      <th>0</th>\n",
       "      <td>Menteri Ketenagakerjaan (Menaker) Ida Fauziyah...</td>\n",
       "      <td>2021-08-04 12:28</td>\n",
       "      <td>blt, bsu</td>\n",
       "      <td>3 Beda BLT Subsidi Gaji 2021 vs 2020</td>\n",
       "    </tr>\n",
       "    <tr>\n",
       "      <th>1</th>\n",
       "      <td>Anggota Komisi II DPR Fraksi Golkar Zulfikar A...</td>\n",
       "      <td>2021-08-04 12:22</td>\n",
       "      <td>pesawat presiden</td>\n",
       "      <td>Tinggi Kematian Jateng dalam Sebulan, Sinyal K...</td>\n",
       "    </tr>\n",
       "    <tr>\n",
       "      <th>2</th>\n",
       "      <td>Harga Batu bara Acuan (HBA) menguat 13,55 pers...</td>\n",
       "      <td>2021-08-04 09:50</td>\n",
       "      <td>batu bara, harga batu bara acuan</td>\n",
       "      <td>Harga Batu Bara Acuan Tembus US$130,99 per Ton...</td>\n",
       "    </tr>\n",
       "    <tr>\n",
       "      <th>3</th>\n",
       "      <td>Capaian jumlah vaksinasi Covid-19 di Indonesia...</td>\n",
       "      <td>2021-08-04 12:06</td>\n",
       "      <td>vaksin, vaksinasi, covid-19, virus corona, epi...</td>\n",
       "      <td>China Tes Covid Massal, Deteksi Kasus Tertingg...</td>\n",
       "    </tr>\n",
       "    <tr>\n",
       "      <th>4</th>\n",
       "      <td>Badan Nasional Penanggulangan Bencana (BNPB) m...</td>\n",
       "      <td>2021-08-04 09:00</td>\n",
       "      <td>bnpb, ingat pesan ibu, papua barat, penanganan...</td>\n",
       "      <td>BNPB Kirim Masker dan Tabung Oksigen ke Papua ...</td>\n",
       "    </tr>\n",
       "  </tbody>\n",
       "</table>\n",
       "</div>"
      ],
      "text/plain": [
       "                                             content       publishedAt  \\\n",
       "0  Menteri Ketenagakerjaan (Menaker) Ida Fauziyah...  2021-08-04 12:28   \n",
       "1  Anggota Komisi II DPR Fraksi Golkar Zulfikar A...  2021-08-04 12:22   \n",
       "2  Harga Batu bara Acuan (HBA) menguat 13,55 pers...  2021-08-04 09:50   \n",
       "3  Capaian jumlah vaksinasi Covid-19 di Indonesia...  2021-08-04 12:06   \n",
       "4  Badan Nasional Penanggulangan Bencana (BNPB) m...  2021-08-04 09:00   \n",
       "\n",
       "                                                 tag  \\\n",
       "0                                           blt, bsu   \n",
       "1                                   pesawat presiden   \n",
       "2                   batu bara, harga batu bara acuan   \n",
       "3  vaksin, vaksinasi, covid-19, virus corona, epi...   \n",
       "4  bnpb, ingat pesan ibu, papua barat, penanganan...   \n",
       "\n",
       "                                               title  \n",
       "0               3 Beda BLT Subsidi Gaji 2021 vs 2020  \n",
       "1  Tinggi Kematian Jateng dalam Sebulan, Sinyal K...  \n",
       "2  Harga Batu Bara Acuan Tembus US$130,99 per Ton...  \n",
       "3  China Tes Covid Massal, Deteksi Kasus Tertingg...  \n",
       "4  BNPB Kirim Masker dan Tabung Oksigen ke Papua ...  "
      ]
     },
     "execution_count": 162,
     "metadata": {},
     "output_type": "execute_result"
    }
   ],
   "source": [
    "data_.head()"
   ]
  },
  {
   "cell_type": "markdown",
   "metadata": {},
   "source": [
    "# Empty rows validation and delete it."
   ]
  },
  {
   "cell_type": "code",
   "execution_count": 164,
   "metadata": {},
   "outputs": [
    {
     "data": {
      "text/plain": [
       "0        False\n",
       "1        False\n",
       "2        False\n",
       "3        False\n",
       "4        False\n",
       "         ...  \n",
       "16787    False\n",
       "16788     True\n",
       "16789    False\n",
       "16790    False\n",
       "16791     True\n",
       "Name: content, Length: 16792, dtype: bool"
      ]
     },
     "execution_count": 164,
     "metadata": {},
     "output_type": "execute_result"
    }
   ],
   "source": [
    "pd.isna(data_['content'])"
   ]
  },
  {
   "cell_type": "code",
   "execution_count": 165,
   "metadata": {},
   "outputs": [],
   "source": [
    "data_.dropna(subset=['content'], inplace=True)"
   ]
  },
  {
   "cell_type": "code",
   "execution_count": 166,
   "metadata": {},
   "outputs": [
    {
     "data": {
      "text/html": [
       "<div>\n",
       "<style scoped>\n",
       "    .dataframe tbody tr th:only-of-type {\n",
       "        vertical-align: middle;\n",
       "    }\n",
       "\n",
       "    .dataframe tbody tr th {\n",
       "        vertical-align: top;\n",
       "    }\n",
       "\n",
       "    .dataframe thead th {\n",
       "        text-align: right;\n",
       "    }\n",
       "</style>\n",
       "<table border=\"1\" class=\"dataframe\">\n",
       "  <thead>\n",
       "    <tr style=\"text-align: right;\">\n",
       "      <th></th>\n",
       "      <th>content</th>\n",
       "      <th>publishedAt</th>\n",
       "      <th>tag</th>\n",
       "      <th>title</th>\n",
       "    </tr>\n",
       "  </thead>\n",
       "  <tbody>\n",
       "    <tr>\n",
       "      <th>0</th>\n",
       "      <td>Menteri Ketenagakerjaan (Menaker) Ida Fauziyah...</td>\n",
       "      <td>2021-08-04 12:28</td>\n",
       "      <td>blt, bsu</td>\n",
       "      <td>3 Beda BLT Subsidi Gaji 2021 vs 2020</td>\n",
       "    </tr>\n",
       "    <tr>\n",
       "      <th>1</th>\n",
       "      <td>Anggota Komisi II DPR Fraksi Golkar Zulfikar A...</td>\n",
       "      <td>2021-08-04 12:22</td>\n",
       "      <td>pesawat presiden</td>\n",
       "      <td>Tinggi Kematian Jateng dalam Sebulan, Sinyal K...</td>\n",
       "    </tr>\n",
       "    <tr>\n",
       "      <th>2</th>\n",
       "      <td>Harga Batu bara Acuan (HBA) menguat 13,55 pers...</td>\n",
       "      <td>2021-08-04 09:50</td>\n",
       "      <td>batu bara, harga batu bara acuan</td>\n",
       "      <td>Harga Batu Bara Acuan Tembus US$130,99 per Ton...</td>\n",
       "    </tr>\n",
       "    <tr>\n",
       "      <th>3</th>\n",
       "      <td>Capaian jumlah vaksinasi Covid-19 di Indonesia...</td>\n",
       "      <td>2021-08-04 12:06</td>\n",
       "      <td>vaksin, vaksinasi, covid-19, virus corona, epi...</td>\n",
       "      <td>China Tes Covid Massal, Deteksi Kasus Tertingg...</td>\n",
       "    </tr>\n",
       "    <tr>\n",
       "      <th>4</th>\n",
       "      <td>Badan Nasional Penanggulangan Bencana (BNPB) m...</td>\n",
       "      <td>2021-08-04 09:00</td>\n",
       "      <td>bnpb, ingat pesan ibu, papua barat, penanganan...</td>\n",
       "      <td>BNPB Kirim Masker dan Tabung Oksigen ke Papua ...</td>\n",
       "    </tr>\n",
       "  </tbody>\n",
       "</table>\n",
       "</div>"
      ],
      "text/plain": [
       "                                             content       publishedAt  \\\n",
       "0  Menteri Ketenagakerjaan (Menaker) Ida Fauziyah...  2021-08-04 12:28   \n",
       "1  Anggota Komisi II DPR Fraksi Golkar Zulfikar A...  2021-08-04 12:22   \n",
       "2  Harga Batu bara Acuan (HBA) menguat 13,55 pers...  2021-08-04 09:50   \n",
       "3  Capaian jumlah vaksinasi Covid-19 di Indonesia...  2021-08-04 12:06   \n",
       "4  Badan Nasional Penanggulangan Bencana (BNPB) m...  2021-08-04 09:00   \n",
       "\n",
       "                                                 tag  \\\n",
       "0                                           blt, bsu   \n",
       "1                                   pesawat presiden   \n",
       "2                   batu bara, harga batu bara acuan   \n",
       "3  vaksin, vaksinasi, covid-19, virus corona, epi...   \n",
       "4  bnpb, ingat pesan ibu, papua barat, penanganan...   \n",
       "\n",
       "                                               title  \n",
       "0               3 Beda BLT Subsidi Gaji 2021 vs 2020  \n",
       "1  Tinggi Kematian Jateng dalam Sebulan, Sinyal K...  \n",
       "2  Harga Batu Bara Acuan Tembus US$130,99 per Ton...  \n",
       "3  China Tes Covid Massal, Deteksi Kasus Tertingg...  \n",
       "4  BNPB Kirim Masker dan Tabung Oksigen ke Papua ...  "
      ]
     },
     "execution_count": 166,
     "metadata": {},
     "output_type": "execute_result"
    }
   ],
   "source": [
    "data_.head()"
   ]
  },
  {
   "cell_type": "markdown",
   "metadata": {},
   "source": [
    "# Labelling (manual). 0 = Neutral, 1 = Positive, 2 = Negative"
   ]
  },
  {
   "cell_type": "code",
   "execution_count": 167,
   "metadata": {},
   "outputs": [
    {
     "name": "stdout",
     "output_type": "stream",
     "text": [
      "3 Beda BLT Subsidi Gaji 2021 vs 2020\n",
      "which class ? 0\n",
      "Tinggi Kematian Jateng dalam Sebulan, Sinyal Kritis Covid-19\n",
      "which class ? 2\n",
      "Harga Batu Bara Acuan Tembus US$130,99 per Ton Agustus 2021\n",
      "which class ? 1\n",
      "China Tes Covid Massal, Deteksi Kasus Tertinggi dalam 6 Bulan\n",
      "which class ? 0\n",
      "BNPB Kirim Masker dan Tabung Oksigen ke Papua Barat\n",
      "which class ? 1\n",
      "Menteri Malaysia Mundur Imbas Kisruh Status Darurat Covid\n"
     ]
    },
    {
     "ename": "KeyboardInterrupt",
     "evalue": "Interrupted by user",
     "output_type": "error",
     "traceback": [
      "\u001b[1;31m---------------------------------------------------------------------------\u001b[0m",
      "\u001b[1;31mKeyboardInterrupt\u001b[0m                         Traceback (most recent call last)",
      "\u001b[1;32m<ipython-input-167-43a49b5586e0>\u001b[0m in \u001b[0;36m<module>\u001b[1;34m\u001b[0m\n\u001b[0;32m      3\u001b[0m \u001b[1;31m#     print(row['content'])\u001b[0m\u001b[1;33m\u001b[0m\u001b[1;33m\u001b[0m\u001b[1;33m\u001b[0m\u001b[0m\n\u001b[0;32m      4\u001b[0m     \u001b[0mprint\u001b[0m\u001b[1;33m(\u001b[0m\u001b[0mrow\u001b[0m\u001b[1;33m[\u001b[0m\u001b[1;34m'title'\u001b[0m\u001b[1;33m]\u001b[0m\u001b[1;33m)\u001b[0m\u001b[1;33m\u001b[0m\u001b[1;33m\u001b[0m\u001b[0m\n\u001b[1;32m----> 5\u001b[1;33m     \u001b[0mlabel\u001b[0m \u001b[1;33m=\u001b[0m \u001b[0minput\u001b[0m\u001b[1;33m(\u001b[0m\u001b[1;34m'which class ? '\u001b[0m\u001b[1;33m)\u001b[0m\u001b[1;33m\u001b[0m\u001b[1;33m\u001b[0m\u001b[0m\n\u001b[0m\u001b[0;32m      6\u001b[0m     \u001b[0mlabel_sentimen\u001b[0m\u001b[1;33m.\u001b[0m\u001b[0mappend\u001b[0m\u001b[1;33m(\u001b[0m\u001b[0mint\u001b[0m\u001b[1;33m(\u001b[0m\u001b[0mlabel\u001b[0m\u001b[1;33m)\u001b[0m\u001b[1;33m)\u001b[0m\u001b[1;33m\u001b[0m\u001b[1;33m\u001b[0m\u001b[0m\n",
      "\u001b[1;32m~\\anaconda3\\envs\\tf14\\lib\\site-packages\\ipykernel\\kernelbase.py\u001b[0m in \u001b[0;36mraw_input\u001b[1;34m(self, prompt)\u001b[0m\n\u001b[0;32m    861\u001b[0m             \u001b[0mself\u001b[0m\u001b[1;33m.\u001b[0m\u001b[0m_parent_ident\u001b[0m\u001b[1;33m,\u001b[0m\u001b[1;33m\u001b[0m\u001b[1;33m\u001b[0m\u001b[0m\n\u001b[0;32m    862\u001b[0m             \u001b[0mself\u001b[0m\u001b[1;33m.\u001b[0m\u001b[0m_parent_header\u001b[0m\u001b[1;33m,\u001b[0m\u001b[1;33m\u001b[0m\u001b[1;33m\u001b[0m\u001b[0m\n\u001b[1;32m--> 863\u001b[1;33m             \u001b[0mpassword\u001b[0m\u001b[1;33m=\u001b[0m\u001b[1;32mFalse\u001b[0m\u001b[1;33m,\u001b[0m\u001b[1;33m\u001b[0m\u001b[1;33m\u001b[0m\u001b[0m\n\u001b[0m\u001b[0;32m    864\u001b[0m         )\n\u001b[0;32m    865\u001b[0m \u001b[1;33m\u001b[0m\u001b[0m\n",
      "\u001b[1;32m~\\anaconda3\\envs\\tf14\\lib\\site-packages\\ipykernel\\kernelbase.py\u001b[0m in \u001b[0;36m_input_request\u001b[1;34m(self, prompt, ident, parent, password)\u001b[0m\n\u001b[0;32m    902\u001b[0m             \u001b[1;32mexcept\u001b[0m \u001b[0mKeyboardInterrupt\u001b[0m\u001b[1;33m:\u001b[0m\u001b[1;33m\u001b[0m\u001b[1;33m\u001b[0m\u001b[0m\n\u001b[0;32m    903\u001b[0m                 \u001b[1;31m# re-raise KeyboardInterrupt, to truncate traceback\u001b[0m\u001b[1;33m\u001b[0m\u001b[1;33m\u001b[0m\u001b[1;33m\u001b[0m\u001b[0m\n\u001b[1;32m--> 904\u001b[1;33m                 \u001b[1;32mraise\u001b[0m \u001b[0mKeyboardInterrupt\u001b[0m\u001b[1;33m(\u001b[0m\u001b[1;34m\"Interrupted by user\"\u001b[0m\u001b[1;33m)\u001b[0m \u001b[1;32mfrom\u001b[0m \u001b[1;32mNone\u001b[0m\u001b[1;33m\u001b[0m\u001b[1;33m\u001b[0m\u001b[0m\n\u001b[0m\u001b[0;32m    905\u001b[0m             \u001b[1;32mexcept\u001b[0m \u001b[0mException\u001b[0m \u001b[1;32mas\u001b[0m \u001b[0me\u001b[0m\u001b[1;33m:\u001b[0m\u001b[1;33m\u001b[0m\u001b[1;33m\u001b[0m\u001b[0m\n\u001b[0;32m    906\u001b[0m                 \u001b[0mself\u001b[0m\u001b[1;33m.\u001b[0m\u001b[0mlog\u001b[0m\u001b[1;33m.\u001b[0m\u001b[0mwarning\u001b[0m\u001b[1;33m(\u001b[0m\u001b[1;34m\"Invalid Message:\"\u001b[0m\u001b[1;33m,\u001b[0m \u001b[0mexc_info\u001b[0m\u001b[1;33m=\u001b[0m\u001b[1;32mTrue\u001b[0m\u001b[1;33m)\u001b[0m\u001b[1;33m\u001b[0m\u001b[1;33m\u001b[0m\u001b[0m\n",
      "\u001b[1;31mKeyboardInterrupt\u001b[0m: Interrupted by user"
     ]
    }
   ],
   "source": [
    "label_sentimen = []\n",
    "for index, row, in data_.iterrows():\n",
    "#     print(row['content'])\n",
    "    print(row['title'])\n",
    "    label = input('which class ? ')\n",
    "    label_sentimen.append(int(label))"
   ]
  },
  {
   "cell_type": "markdown",
   "metadata": {},
   "source": [
    "# Labelling (automatic - random). 0 = Negative, 1 = Neutral, 2 = Positive."
   ]
  },
  {
   "cell_type": "code",
   "execution_count": 168,
   "metadata": {},
   "outputs": [],
   "source": [
    "def randomLabelling():\n",
    "    label = ['Neutral','Positive','Negative']\n",
    "    label = label[np.random.randint(3)]\n",
    "    return label\n",
    "\n",
    "encoder = LabelEncoder()\n",
    "\n",
    "data_['labels'] = data_.apply(lambda row: randomLabelling(), axis=1)\n",
    "data_['encoder'] = encoder.fit_transform(data_['labels'])"
   ]
  },
  {
   "cell_type": "code",
   "execution_count": 169,
   "metadata": {},
   "outputs": [
    {
     "data": {
      "text/html": [
       "<div>\n",
       "<style scoped>\n",
       "    .dataframe tbody tr th:only-of-type {\n",
       "        vertical-align: middle;\n",
       "    }\n",
       "\n",
       "    .dataframe tbody tr th {\n",
       "        vertical-align: top;\n",
       "    }\n",
       "\n",
       "    .dataframe thead th {\n",
       "        text-align: right;\n",
       "    }\n",
       "</style>\n",
       "<table border=\"1\" class=\"dataframe\">\n",
       "  <thead>\n",
       "    <tr style=\"text-align: right;\">\n",
       "      <th></th>\n",
       "      <th>content</th>\n",
       "      <th>publishedAt</th>\n",
       "      <th>tag</th>\n",
       "      <th>title</th>\n",
       "      <th>labels</th>\n",
       "      <th>encoder</th>\n",
       "    </tr>\n",
       "  </thead>\n",
       "  <tbody>\n",
       "    <tr>\n",
       "      <th>0</th>\n",
       "      <td>Menteri Ketenagakerjaan (Menaker) Ida Fauziyah...</td>\n",
       "      <td>2021-08-04 12:28</td>\n",
       "      <td>blt, bsu</td>\n",
       "      <td>3 Beda BLT Subsidi Gaji 2021 vs 2020</td>\n",
       "      <td>Negative</td>\n",
       "      <td>0</td>\n",
       "    </tr>\n",
       "    <tr>\n",
       "      <th>1</th>\n",
       "      <td>Anggota Komisi II DPR Fraksi Golkar Zulfikar A...</td>\n",
       "      <td>2021-08-04 12:22</td>\n",
       "      <td>pesawat presiden</td>\n",
       "      <td>Tinggi Kematian Jateng dalam Sebulan, Sinyal K...</td>\n",
       "      <td>Neutral</td>\n",
       "      <td>1</td>\n",
       "    </tr>\n",
       "    <tr>\n",
       "      <th>2</th>\n",
       "      <td>Harga Batu bara Acuan (HBA) menguat 13,55 pers...</td>\n",
       "      <td>2021-08-04 09:50</td>\n",
       "      <td>batu bara, harga batu bara acuan</td>\n",
       "      <td>Harga Batu Bara Acuan Tembus US$130,99 per Ton...</td>\n",
       "      <td>Neutral</td>\n",
       "      <td>1</td>\n",
       "    </tr>\n",
       "    <tr>\n",
       "      <th>3</th>\n",
       "      <td>Capaian jumlah vaksinasi Covid-19 di Indonesia...</td>\n",
       "      <td>2021-08-04 12:06</td>\n",
       "      <td>vaksin, vaksinasi, covid-19, virus corona, epi...</td>\n",
       "      <td>China Tes Covid Massal, Deteksi Kasus Tertingg...</td>\n",
       "      <td>Negative</td>\n",
       "      <td>0</td>\n",
       "    </tr>\n",
       "    <tr>\n",
       "      <th>4</th>\n",
       "      <td>Badan Nasional Penanggulangan Bencana (BNPB) m...</td>\n",
       "      <td>2021-08-04 09:00</td>\n",
       "      <td>bnpb, ingat pesan ibu, papua barat, penanganan...</td>\n",
       "      <td>BNPB Kirim Masker dan Tabung Oksigen ke Papua ...</td>\n",
       "      <td>Positive</td>\n",
       "      <td>2</td>\n",
       "    </tr>\n",
       "  </tbody>\n",
       "</table>\n",
       "</div>"
      ],
      "text/plain": [
       "                                             content       publishedAt  \\\n",
       "0  Menteri Ketenagakerjaan (Menaker) Ida Fauziyah...  2021-08-04 12:28   \n",
       "1  Anggota Komisi II DPR Fraksi Golkar Zulfikar A...  2021-08-04 12:22   \n",
       "2  Harga Batu bara Acuan (HBA) menguat 13,55 pers...  2021-08-04 09:50   \n",
       "3  Capaian jumlah vaksinasi Covid-19 di Indonesia...  2021-08-04 12:06   \n",
       "4  Badan Nasional Penanggulangan Bencana (BNPB) m...  2021-08-04 09:00   \n",
       "\n",
       "                                                 tag  \\\n",
       "0                                           blt, bsu   \n",
       "1                                   pesawat presiden   \n",
       "2                   batu bara, harga batu bara acuan   \n",
       "3  vaksin, vaksinasi, covid-19, virus corona, epi...   \n",
       "4  bnpb, ingat pesan ibu, papua barat, penanganan...   \n",
       "\n",
       "                                               title    labels  encoder  \n",
       "0               3 Beda BLT Subsidi Gaji 2021 vs 2020  Negative        0  \n",
       "1  Tinggi Kematian Jateng dalam Sebulan, Sinyal K...   Neutral        1  \n",
       "2  Harga Batu Bara Acuan Tembus US$130,99 per Ton...   Neutral        1  \n",
       "3  China Tes Covid Massal, Deteksi Kasus Tertingg...  Negative        0  \n",
       "4  BNPB Kirim Masker dan Tabung Oksigen ke Papua ...  Positive        2  "
      ]
     },
     "execution_count": 169,
     "metadata": {},
     "output_type": "execute_result"
    }
   ],
   "source": [
    "data_.head()"
   ]
  },
  {
   "cell_type": "markdown",
   "metadata": {},
   "source": [
    "# Export to file"
   ]
  },
  {
   "cell_type": "code",
   "execution_count": 170,
   "metadata": {},
   "outputs": [],
   "source": [
    "def exportToCsv(filename, dataframe):\n",
    "    dataframe.to_csv(filename, encoding='utf-8', sep=',', index=False)"
   ]
  },
  {
   "cell_type": "markdown",
   "metadata": {},
   "source": [
    "# visualize"
   ]
  },
  {
   "cell_type": "code",
   "execution_count": 171,
   "metadata": {},
   "outputs": [
    {
     "name": "stdout",
     "output_type": "stream",
     "text": [
      "labels  \n",
      "Positive    4752\n",
      "Neutral     4713\n",
      "Negative    4554\n",
      "dtype: int64\n"
     ]
    },
    {
     "data": {
      "text/plain": [
       "<AxesSubplot:>"
      ]
     },
     "execution_count": 171,
     "metadata": {},
     "output_type": "execute_result"
    },
    {
     "data": {
      "image/png": "[encoded data removed]",
      "text/plain": [
       "<Figure size 432x288 with 1 Axes>"
      ]
     },
     "metadata": {
      "needs_background": "light"
     },
     "output_type": "display_data"
    }
   ],
   "source": [
    "df_ = pd.DataFrame(data_,columns = ['labels'])\n",
    "print(df_.value_counts())\n",
    "data_.labels.value_counts().sort_index(ascending=False).plot(kind='barh')"
   ]
  },
  {
   "cell_type": "code",
   "execution_count": 172,
   "metadata": {},
   "outputs": [
    {
     "name": "stderr",
     "output_type": "stream",
     "text": [
      "C:\\Users\\fahri\\anaconda3\\envs\\tf14\\lib\\site-packages\\seaborn\\_decorators.py:43: FutureWarning: Pass the following variable as a keyword arg: x. From version 0.12, the only valid positional argument will be `data`, and passing other arguments without an explicit keyword will result in an error or misinterpretation.\n",
      "  FutureWarning\n"
     ]
    },
    {
     "data": {
      "image/png": "[encoded data removed]",
      "text/plain": [
       "<Figure size 432x288 with 1 Axes>"
      ]
     },
     "metadata": {
      "needs_background": "light"
     },
     "output_type": "display_data"
    }
   ],
   "source": [
    "sns.countplot(data_.labels)\n",
    "plt.show()"
   ]
  },
  {
   "cell_type": "code",
   "execution_count": 173,
   "metadata": {},
   "outputs": [
    {
     "data": {
      "text/plain": [
       "<AxesSubplot:ylabel='Frequency'>"
      ]
     },
     "execution_count": 173,
     "metadata": {},
     "output_type": "execute_result"
    },
    {
     "data": {
      "image/png": "[encoded data removed]",
      "text/plain": [
       "<Figure size 432x288 with 1 Axes>"
      ]
     },
     "metadata": {
      "needs_background": "light"
     },
     "output_type": "display_data"
    }
   ],
   "source": [
    "data['content'].str.len().plot.hist()"
   ]
  },
  {
   "cell_type": "code",
   "execution_count": 174,
   "metadata": {},
   "outputs": [],
   "source": [
    "exportToCsv('clean_0.csv',data_)"
   ]
  },
  {
   "cell_type": "markdown",
   "metadata": {},
   "source": [
    "# Word processing"
   ]
  },
  {
   "cell_type": "code",
   "execution_count": 175,
   "metadata": {},
   "outputs": [],
   "source": [
    "def getClean(text):\n",
    "    text = str(text).lower().replace('\\\\', '').replace('_', ' ') # case folding\n",
    "    text = re.sub(r'http\\S+', \" \", text)    # remove urls (punctuation)\n",
    "    text = re.sub(r'@\\w+',' ', text)         # remove mentions\n",
    "    text = re.sub(r'#\\w+', ' ', text)       # remove hastags\n",
    "    text = re.sub('r<.*?>',' ', text)       # remove html tags\n",
    "    text = re.sub(\"(.)\\\\1{2,}\", \"\\\\1\", text)\n",
    "    text = re.sub(\"\\n\", \"\", text)           # remove new line\n",
    "    \n",
    "    # Stemming\n",
    "    text = stemmer.stem(text)\n",
    "    \n",
    "    # Stopword\n",
    "    text = stopword.remove(text)\n",
    "    return text"
   ]
  },
  {
   "cell_type": "markdown",
   "metadata": {},
   "source": [
    "## Maximum sentence length"
   ]
  },
  {
   "cell_type": "code",
   "execution_count": 176,
   "metadata": {},
   "outputs": [
    {
     "name": "stdout",
     "output_type": "stream",
     "text": [
      "10652\n"
     ]
    }
   ],
   "source": [
    "max_len_words = max(list(data_['content'].apply(len)))\n",
    "print(max_len_words)"
   ]
  },
  {
   "cell_type": "markdown",
   "metadata": {},
   "source": [
    "# Run ./clean.py for better performance"
   ]
  },
  {
   "cell_type": "code",
   "execution_count": null,
   "metadata": {},
   "outputs": [],
   "source": [
    "data_['title_clean'] = data_['title'].apply(lambda row: getClean(row))\n",
    "data_['content_clean'] = data_['content'].apply(lambda row: getClean(row))"
   ]
  },
  {
   "cell_type": "markdown",
   "metadata": {},
   "source": [
    "# Data preparation"
   ]
  },
  {
   "cell_type": "code",
   "execution_count": 177,
   "metadata": {},
   "outputs": [
    {
     "name": "stdout",
     "output_type": "stream",
     "text": [
      "(14019,) (14019,)\n"
     ]
    }
   ],
   "source": [
    "data_clean = pd.read_csv('cleaned_data.csv', sep=',')\n",
    "\n",
    "# x = data_clean.content_clean.values\n",
    "x = data_clean.title_clean.values\n",
    "y = data_clean.encoder.values\n",
    "\n",
    "print(x.shape, y.shape)"
   ]
  },
  {
   "cell_type": "code",
   "execution_count": 178,
   "metadata": {},
   "outputs": [
    {
     "data": {
      "text/plain": [
       "True"
      ]
     },
     "execution_count": 178,
     "metadata": {},
     "output_type": "execute_result"
    }
   ],
   "source": [
    "data_clean.isnull().values.any()"
   ]
  },
  {
   "cell_type": "code",
   "execution_count": 179,
   "metadata": {},
   "outputs": [
    {
     "data": {
      "text/plain": [
       "Int64Index([], dtype='int64')"
      ]
     },
     "execution_count": 179,
     "metadata": {},
     "output_type": "execute_result"
    }
   ],
   "source": [
    "text_empty = data_clean['publishedAt'].str.len() < 1\n",
    "data_clean.loc[text_empty].index"
   ]
  },
  {
   "cell_type": "markdown",
   "metadata": {},
   "source": [
    "# Traditional machine learning"
   ]
  },
  {
   "cell_type": "markdown",
   "metadata": {},
   "source": [
    "## Export model"
   ]
  },
  {
   "cell_type": "code",
   "execution_count": 181,
   "metadata": {},
   "outputs": [],
   "source": [
    "def exportModel(model, filename):\n",
    "    export = pickle.dump(model, open(filename, 'wb'))"
   ]
  },
  {
   "cell_type": "markdown",
   "metadata": {},
   "source": [
    "## Naive bayes"
   ]
  },
  {
   "cell_type": "code",
   "execution_count": 182,
   "metadata": {},
   "outputs": [],
   "source": [
    "def naive(x_train, label_train, x_val, label_val):\n",
    "    pipeline = Pipeline([('tfidf', TfidfVectorizer(max_features=5000)), ('naive', MultinomialNB())])\n",
    "    pipeline.fit(x_train, label_train)\n",
    "    y_predict = pipeline.predict(x_val)\n",
    "    \n",
    "    plot_confusion_matrix(pipeline, x_val, label_val)  \n",
    "    plt.show()\n",
    "    \n",
    "    print(classification_report(label_val, y_predict))\n",
    "    print(\"Naive Bayes \",accuracy_score(label_val, y_predict))\n",
    "    exportModel(pipeline, 'naive_bayes.pkl')"
   ]
  },
  {
   "cell_type": "markdown",
   "metadata": {},
   "source": [
    "## Logistic regression"
   ]
  },
  {
   "cell_type": "code",
   "execution_count": 184,
   "metadata": {},
   "outputs": [],
   "source": [
    "def logistic(x_train, label_train, x_val, label_val):\n",
    "    pipeline = Pipeline([('tfidf', TfidfVectorizer(max_features=5000)), ('logistic', LogisticRegression())])\n",
    "    pipeline.fit(x_train, label_train)\n",
    "    y_predict = pipeline.predict(x_val)\n",
    "    \n",
    "    plot_confusion_matrix(pipeline, x_val, label_val)  \n",
    "    plt.show()\n",
    "    \n",
    "    print(classification_report(label_val, y_predict))\n",
    "    print(\"Logistic \",accuracy_score(label_val, y_predict))\n",
    "    exportModel(pipeline, 'logistic_regression.pkl')"
   ]
  },
  {
   "cell_type": "markdown",
   "metadata": {},
   "source": [
    "## Multi layer perceptron"
   ]
  },
  {
   "cell_type": "code",
   "execution_count": 185,
   "metadata": {},
   "outputs": [],
   "source": [
    "def mlp(x_train, label_train, x_val, label_val):\n",
    "    pipeline = Pipeline([\n",
    "        ('tfidf', TfidfVectorizer(max_features=5000)), \n",
    "        ('mlp', MLPClassifier(\n",
    "            hidden_layer_sizes=(100,),\n",
    "            solver='adam',\n",
    "            shuffle=True,\n",
    "            early_stopping=True,\n",
    "            verbose=False\n",
    "        \n",
    "        ))\n",
    "    ])\n",
    "    pipeline.fit(x_train, label_train)\n",
    "    y_predict = pipeline.predict(x_val)\n",
    "    \n",
    "    plot_confusion_matrix(pipeline, x_val, label_val)  \n",
    "    plt.show()\n",
    "    \n",
    "    print(classification_report(label_val, y_predict))\n",
    "    print(\"MLP \",accuracy_score(label_val, y_predict))\n",
    "    exportModel(pipeline, 'mlp.pkl')"
   ]
  },
  {
   "cell_type": "code",
   "execution_count": 186,
   "metadata": {},
   "outputs": [
    {
     "name": "stdout",
     "output_type": "stream",
     "text": [
      "(9813,) (4206,)\n"
     ]
    },
    {
     "data": {
      "image/png": "[encoded data removed]",
      "text/plain": [
       "<Figure size 432x288 with 2 Axes>"
      ]
     },
     "metadata": {
      "needs_background": "light"
     },
     "output_type": "display_data"
    },
    {
     "name": "stdout",
     "output_type": "stream",
     "text": [
      "              precision    recall  f1-score   support\n",
      "\n",
      "           0       0.34      0.33      0.33      1427\n",
      "           1       0.33      0.32      0.33      1408\n",
      "           2       0.34      0.35      0.35      1371\n",
      "\n",
      "    accuracy                           0.33      4206\n",
      "   macro avg       0.33      0.34      0.33      4206\n",
      "weighted avg       0.33      0.33      0.33      4206\n",
      "\n",
      "Naive Bayes  0.33499762244412745\n"
     ]
    },
    {
     "data": {
      "image/png": "[encoded data removed]",
      "text/plain": [
       "<Figure size 432x288 with 2 Axes>"
      ]
     },
     "metadata": {
      "needs_background": "light"
     },
     "output_type": "display_data"
    },
    {
     "name": "stdout",
     "output_type": "stream",
     "text": [
      "              precision    recall  f1-score   support\n",
      "\n",
      "           0       0.35      0.35      0.35      1427\n",
      "           1       0.32      0.32      0.32      1408\n",
      "           2       0.33      0.33      0.33      1371\n",
      "\n",
      "    accuracy                           0.34      4206\n",
      "   macro avg       0.34      0.34      0.34      4206\n",
      "weighted avg       0.34      0.34      0.34      4206\n",
      "\n",
      "Logistic  0.33523537803138376\n"
     ]
    },
    {
     "data": {
      "image/png": "[encoded data removed]",
      "text/plain": [
       "<Figure size 432x288 with 2 Axes>"
      ]
     },
     "metadata": {
      "needs_background": "light"
     },
     "output_type": "display_data"
    },
    {
     "name": "stdout",
     "output_type": "stream",
     "text": [
      "              precision    recall  f1-score   support\n",
      "\n",
      "           0       0.35      0.25      0.29      1427\n",
      "           1       0.32      0.30      0.31      1408\n",
      "           2       0.33      0.45      0.38      1371\n",
      "\n",
      "    accuracy                           0.33      4206\n",
      "   macro avg       0.33      0.33      0.33      4206\n",
      "weighted avg       0.33      0.33      0.33      4206\n",
      "\n",
      "MLP  0.33214455539705184\n"
     ]
    }
   ],
   "source": [
    "x_train, x_val, label_train, label_val = train_test_split(x, y,test_size=.3, shuffle=True)\n",
    "print(x_train.shape, x_val.shape)\n",
    "\n",
    "naive(x_train, label_train, x_val, label_val)\n",
    "logistic(x_train, label_train, x_val, label_val)\n",
    "mlp(x_train, label_train, x_val, label_val)"
   ]
  },
  {
   "cell_type": "markdown",
   "metadata": {},
   "source": [
    "# Deep learning"
   ]
  },
  {
   "cell_type": "markdown",
   "metadata": {},
   "source": [
    "## Tokenizer"
   ]
  },
  {
   "cell_type": "code",
   "execution_count": 196,
   "metadata": {},
   "outputs": [],
   "source": [
    "def tokenize(x_train, x_val, max_len_word):\n",
    "    tokenizer = Tokenizer(num_words=5000)\n",
    "    tokenizer.fit_on_texts(x_train)\n",
    "    \n",
    "    sequence_dict = tokenizer.word_index\n",
    "    word_dict = dict((num, val) for (val, num) in sequence_dict.items())\n",
    "    \n",
    "    # Adding 1 because of reserved 0 index\n",
    "    vocab_size = len(tokenizer.word_index) + 1\n",
    "\n",
    "    train_sequences = tokenizer.texts_to_sequences(x_train)\n",
    "    train_padded = pad_sequences(train_sequences,\n",
    "                                 maxlen=max_len_word,\n",
    "                                 truncating='post',\n",
    "                                 padding='post')\n",
    "    \n",
    "    val_sequences = tokenizer.texts_to_sequences(x_val)\n",
    "    val_padded = pad_sequences(val_sequences,\n",
    "                                maxlen=max_len_word,\n",
    "                                truncating='post',\n",
    "                                padding='post')\n",
    "\n",
    "    \n",
    "    print(train_padded.shape)\n",
    "    print(val_padded.shape)\n",
    "    print('Total words: {}'.format(len(word_dict)))\n",
    "    print('Vocabulary sizes: {}'.format(vocab_size))\n",
    "    return train_padded, val_padded, vocab_size"
   ]
  },
  {
   "cell_type": "markdown",
   "metadata": {},
   "source": [
    "## Plot history"
   ]
  },
  {
   "cell_type": "code",
   "execution_count": 197,
   "metadata": {},
   "outputs": [],
   "source": [
    "def plotHistory(history):\n",
    "    acc = history.history['acc']\n",
    "    val_acc = history.history['val_acc']\n",
    "\n",
    "    loss = history.history['loss']\n",
    "    val_loss = history.history['val_loss']\n",
    "\n",
    "    epochs_range = range(1, len(val_acc)+1)\n",
    "    plt.figure(figsize=(12, 4))\n",
    "\n",
    "    plt.subplot(1, 2, 1)\n",
    "    plt.plot(epochs_range, acc, label='Training Accuracy')\n",
    "    plt.plot(epochs_range, val_acc, label='Validation Accuracy')\n",
    "    plt.legend(loc='lower right')\n",
    "    plt.xlim(1, len(val_acc)+1)\n",
    "    plt.title('Training and Validation Accuracy')\n",
    "\n",
    "    plt.subplot(1, 2, 2)\n",
    "    plt.plot(epochs_range, loss, label='Training Loss')\n",
    "    plt.plot(epochs_range, val_loss, label='Validation Loss')\n",
    "    plt.legend(loc='upper right')\n",
    "    plt.xlim(1, len(val_acc)+1)\n",
    "    plt.title('Training and Validation Loss')\n",
    "    plt.show()"
   ]
  },
  {
   "cell_type": "markdown",
   "metadata": {},
   "source": [
    "## Generate model"
   ]
  },
  {
   "cell_type": "code",
   "execution_count": 198,
   "metadata": {},
   "outputs": [],
   "source": [
    "def sequentialModel(train_padded_shape, vocab_size, output_dim):\n",
    "    model = Sequential()\n",
    "#     model.add(Embedding(5000, 256, input_length=train_padded_shape))\n",
    "#     input_dim=vocabulary_size, output_dim = embedding size\n",
    "    model.add(Embedding(input_dim=vocab_size, output_dim=output_dim, input_length=train_padded_shape))\n",
    "    model.add(Dropout(0.3))\n",
    "    model.add(LSTM(256, return_sequences=True, dropout=0.3, recurrent_dropout=0.2))\n",
    "    model.add(LSTM(256, dropout=0.3, recurrent_dropout=0.2))\n",
    "    model.add(Dense(3, activation='softmax'))\n",
    "    model.compile(\n",
    "        loss='categorical_crossentropy',\n",
    "        optimizer='adam',\n",
    "        metrics=['accuracy']\n",
    "    )\n",
    "    print(model.summary())\n",
    "    \n",
    "    return model"
   ]
  },
  {
   "cell_type": "code",
   "execution_count": 199,
   "metadata": {},
   "outputs": [],
   "source": [
    "def sequentialModel_1(train_padded_shape, vocab_size, output_dim):\n",
    "    model = Sequential()\n",
    "    model.add(Embedding(input_dim=vocab_size, output_dim=output_dim, input_length=train_padded_shape))\n",
    "    model.add(Bidirectional(LSTM(64, return_sequences=True, recurrent_dropout=0.2)))\n",
    "    model.add(GlobalAveragePooling1D())\n",
    "    model.add(Dense(64, activation='relu'))\n",
    "    model.add(Dropout(0.2))\n",
    "    model.add(Dense(3, activation='softmax'))\n",
    "    model.compile(\n",
    "        loss='categorical_crossentropy',\n",
    "        optimizer='adam',\n",
    "        metrics=['accuracy']\n",
    "    )\n",
    "    print(model.summary())\n",
    "    \n",
    "    return model"
   ]
  },
  {
   "cell_type": "code",
   "execution_count": 200,
   "metadata": {},
   "outputs": [],
   "source": [
    "def sequentialModel_2(train_padded_shape, vocab_size, output_dim):\n",
    "    model = Sequential()\n",
    "    model.add(Embedding(input_dim=vocab_size, output_dim=output_dim, input_length=train_padded_shape))\n",
    "    model.add(GlobalAveragePooling1D())\n",
    "    model.add(Dense(64, activation='relu'))\n",
    "    model.add(Dropout(0.2))\n",
    "    model.add(Dense(3, activation='softmax'))\n",
    "    model.compile(\n",
    "        loss='categorical_crossentropy',\n",
    "        optimizer='adam',\n",
    "        metrics=['accuracy']\n",
    "    )\n",
    "    print(model.summary())\n",
    "    \n",
    "    return model"
   ]
  },
  {
   "cell_type": "code",
   "execution_count": 201,
   "metadata": {},
   "outputs": [],
   "source": [
    "def sequentialModel_3(train_padded_shape, vocab_size, output_dim):\n",
    "    model = Sequential()\n",
    "    model.add(Embedding(input_dim=vocab_size, output_dim=output_dim, input_length=train_padded_shape))\n",
    "    model.add(Conv1D(32, 3, activation='relu'))\n",
    "    model.add(GlobalMaxPooling1D())\n",
    "    model.add(Dense(64, activation='relu'))\n",
    "    model.add(Dropout(0.2))\n",
    "    model.add(Dense(3, activation='softmax'))\n",
    "    model.compile(\n",
    "        loss='categorical_crossentropy',\n",
    "        optimizer='adam',\n",
    "        metrics=['accuracy']\n",
    "    )\n",
    "    print(model.summary())\n",
    "    \n",
    "    return model"
   ]
  },
  {
   "cell_type": "code",
   "execution_count": 202,
   "metadata": {},
   "outputs": [],
   "source": [
    "def sequentialModel_4(train_padded_shape, vocab_size, output_dim):\n",
    "    model = Sequential()\n",
    "    model.add(Embedding(input_dim=vocab_size, output_dim=output_dim, input_length=train_padded_shape))\n",
    "    model.add(SpatialDropout1D(0.4))\n",
    "    model.add(LSTM(196, dropout=0.2, recurrent_dropout=0.2))\n",
    "    model.add(Dense(3, activation='softmax'))\n",
    "    model.compile(\n",
    "        loss='categorical_crossentropy',\n",
    "        optimizer='adam',\n",
    "        metrics=['accuracy']\n",
    "    )\n",
    "    print(model.summary())\n",
    "    \n",
    "    return model"
   ]
  },
  {
   "cell_type": "code",
   "execution_count": 203,
   "metadata": {},
   "outputs": [
    {
     "name": "stdout",
     "output_type": "stream",
     "text": [
      "9670\n",
      "(9813, 512)\n",
      "(4206, 512)\n",
      "Total words: 38238\n",
      "Vocabulary sizes: 38239\n",
      "512\n"
     ]
    }
   ],
   "source": [
    "data_clean_ = pd.read_csv('cleaned_data.csv', sep=',')\n",
    "\n",
    "# x = data_clean_.title_clean.values\n",
    "x = data_clean_.content_clean.values\n",
    "y = pd.get_dummies(data_clean_['encoder']).values\n",
    "\n",
    "max_len_words = max(list(data_clean_['content_clean'].apply(len)))\n",
    "print(max_len_words)\n",
    "\n",
    "x_train, x_val, label_train, label_val = train_test_split(x, y, test_size=.3, shuffle=True)\n",
    "train_padded, val_padded, vocab_size = tokenize(x_train, x_val, 512)\n",
    "input_length = train_padded.shape[1]\n",
    "print(input_length)"
   ]
  },
  {
   "cell_type": "markdown",
   "metadata": {},
   "source": [
    "## Train model"
   ]
  },
  {
   "cell_type": "code",
   "execution_count": 139,
   "metadata": {},
   "outputs": [
    {
     "name": "stdout",
     "output_type": "stream",
     "text": [
      "Model: \"sequential_30\"\n",
      "_________________________________________________________________\n",
      "Layer (type)                 Output Shape              Param #   \n",
      "=================================================================\n",
      "embedding_30 (Embedding)     (None, 256, 50)           1904400   \n",
      "_________________________________________________________________\n",
      "dropout_26 (Dropout)         (None, 256, 50)           0         \n",
      "_________________________________________________________________\n",
      "lstm_19 (LSTM)               (None, 256, 256)          314368    \n",
      "_________________________________________________________________\n",
      "lstm_20 (LSTM)               (None, 256)               525312    \n",
      "_________________________________________________________________\n",
      "dense_44 (Dense)             (None, 3)                 771       \n",
      "=================================================================\n",
      "Total params: 2,744,851\n",
      "Trainable params: 2,744,851\n",
      "Non-trainable params: 0\n",
      "_________________________________________________________________\n",
      "None\n",
      "Train on 9813 samples, validate on 4206 samples\n",
      "Epoch 1/200\n",
      "9792/9813 [============================>.] - ETA: 0s - loss: 1.0999 - acc: 0.3315\n",
      "Epoch 00001: val_acc improved from -inf to 0.31835, saving model to model-content-01-0.32.h5\n",
      "9813/9813 [==============================] - 370s 38ms/sample - loss: 1.0998 - acc: 0.3316 - val_loss: 1.1014 - val_acc: 0.3184\n",
      "Epoch 2/200\n",
      "9792/9813 [============================>.] - ETA: 0s - loss: 1.0981 - acc: 0.3517\n",
      "Epoch 00002: val_acc improved from 0.31835 to 0.32929, saving model to model-content-02-0.33.h5\n",
      "9813/9813 [==============================] - 376s 38ms/sample - loss: 1.0981 - acc: 0.3519 - val_loss: 1.0995 - val_acc: 0.3293\n",
      "Epoch 3/200\n",
      "9792/9813 [============================>.] - ETA: 0s - loss: 1.0871 - acc: 0.3740\n",
      "Epoch 00003: val_acc did not improve from 0.32929\n",
      "9813/9813 [==============================] - 382s 39ms/sample - loss: 1.0871 - acc: 0.3741 - val_loss: 1.1103 - val_acc: 0.3212\n",
      "Epoch 4/200\n",
      "9792/9813 [============================>.] - ETA: 0s - loss: 1.0598 - acc: 0.3984\n",
      "Epoch 00004: val_acc improved from 0.32929 to 0.33833, saving model to model-content-04-0.34.h5\n",
      "9813/9813 [==============================] - 377s 38ms/sample - loss: 1.0598 - acc: 0.3985 - val_loss: 1.1277 - val_acc: 0.3383\n",
      "Epoch 00004: early stopping\n"
     ]
    },
    {
     "data": {
      "image/png": "[encoded data removed]",
      "text/plain": [
       "<Figure size 864x288 with 2 Axes>"
      ]
     },
     "metadata": {
      "needs_background": "light"
     },
     "output_type": "display_data"
    }
   ],
   "source": [
    "batch_size = 32\n",
    "epoch = 200\n",
    "\n",
    "filepath=\"model-content-{epoch:02d}-{val_acc:.2f}.h5\"\n",
    "\n",
    "callbacks = [\n",
    "    EarlyStopping(monitor='val_loss', mode='min', verbose=1, patience=2),\n",
    "    ModelCheckpoint(filepath, monitor='val_acc', verbose=1, save_best_only=True, mode='max')\n",
    "]\n",
    "\n",
    "model = sequentialModel(input_length, vocab_size, 128)\n",
    "history = model.fit(\n",
    "    train_padded, label_train, \n",
    "    epochs=epoch, batch_size=batch_size,\n",
    "    verbose=1, validation_data=(val_padded, label_val),\n",
    "    callbacks=callbacks\n",
    ")\n",
    "\n",
    "plotHistory(history)"
   ]
  },
  {
   "cell_type": "code",
   "execution_count": null,
   "metadata": {},
   "outputs": [],
   "source": [
    "batch_size = 32\n",
    "epoch = 200\n",
    "\n",
    "filepath=\"model_1-content-{epoch:02d}-{val_acc:.2f}.h5\"\n",
    "\n",
    "callbacks = [\n",
    "    EarlyStopping(monitor='val_loss', mode='min', verbose=1, patience=2),\n",
    "    ModelCheckpoint(filepath, monitor='val_acc', verbose=1, save_best_only=True, mode='max')\n",
    "]\n",
    "\n",
    "model_1 = sequentialModel_1(input_length, vocab_size, 128)\n",
    "history = model_1.fit(\n",
    "    train_padded, label_train, \n",
    "    epochs=epoch, batch_size=batch_size,\n",
    "    verbose=1, validation_data=(val_padded, label_val),\n",
    "    callbacks=callbacks\n",
    ")\n",
    "\n",
    "plotHistory(history)"
   ]
  },
  {
   "cell_type": "code",
   "execution_count": 204,
   "metadata": {},
   "outputs": [
    {
     "name": "stdout",
     "output_type": "stream",
     "text": [
      "Model: \"sequential_39\"\n",
      "_________________________________________________________________\n",
      "Layer (type)                 Output Shape              Param #   \n",
      "=================================================================\n",
      "embedding_39 (Embedding)     (None, 512, 256)          9789184   \n",
      "_________________________________________________________________\n",
      "global_average_pooling1d_16  (None, 256)               0         \n",
      "_________________________________________________________________\n",
      "dense_56 (Dense)             (None, 64)                16448     \n",
      "_________________________________________________________________\n",
      "dropout_32 (Dropout)         (None, 64)                0         \n",
      "_________________________________________________________________\n",
      "dense_57 (Dense)             (None, 3)                 195       \n",
      "=================================================================\n",
      "Total params: 9,805,827\n",
      "Trainable params: 9,805,827\n",
      "Non-trainable params: 0\n",
      "_________________________________________________________________\n",
      "None\n",
      "Train on 9813 samples, validate on 4206 samples\n",
      "Epoch 1/200\n",
      "9760/9813 [============================>.] - ETA: 0s - loss: 1.0991 - acc: 0.3347\n",
      "Epoch 00001: val_acc improved from -inf to 0.33856, saving model to model_2-content-01-0.34.h5\n",
      "9813/9813 [==============================] - 11s 1ms/sample - loss: 1.0990 - acc: 0.3354 - val_loss: 1.0986 - val_acc: 0.3386\n",
      "Epoch 2/200\n",
      "9728/9813 [============================>.] - ETA: 0s - loss: 1.0979 - acc: 0.3453\n",
      "Epoch 00002: val_acc did not improve from 0.33856\n",
      "9813/9813 [==============================] - 4s 420us/sample - loss: 1.0979 - acc: 0.3458 - val_loss: 1.0991 - val_acc: 0.3350\n",
      "Epoch 3/200\n",
      "9696/9813 [============================>.] - ETA: 0s - loss: 1.0903 - acc: 0.3727\n",
      "Epoch 00003: val_acc did not improve from 0.33856\n",
      "9813/9813 [==============================] - 4s 419us/sample - loss: 1.0904 - acc: 0.3728 - val_loss: 1.1041 - val_acc: 0.3281\n",
      "Epoch 00003: early stopping\n"
     ]
    },
    {
     "data": {
      "image/png": "[encoded data removed]",
      "text/plain": [
       "<Figure size 864x288 with 2 Axes>"
      ]
     },
     "metadata": {
      "needs_background": "light"
     },
     "output_type": "display_data"
    }
   ],
   "source": [
    "batch_size = 32\n",
    "epoch = 200\n",
    "\n",
    "filepath=\"model_2-content-{epoch:02d}-{val_acc:.2f}.h5\"\n",
    "\n",
    "callbacks = [\n",
    "    EarlyStopping(monitor='val_loss', mode='min', verbose=1, patience=2),\n",
    "    ModelCheckpoint(filepath, monitor='val_acc', verbose=1, save_best_only=True, mode='max')\n",
    "]\n",
    "\n",
    "model_2 = sequentialModel_2(input_length, vocab_size, 256)\n",
    "history = model_2.fit(\n",
    "    train_padded, label_train, \n",
    "    epochs=epoch, batch_size=batch_size,\n",
    "    verbose=1, validation_data=(val_padded, label_val),\n",
    "    callbacks=callbacks\n",
    ")\n",
    "plotHistory(history)"
   ]
  },
  {
   "cell_type": "code",
   "execution_count": 205,
   "metadata": {},
   "outputs": [
    {
     "name": "stdout",
     "output_type": "stream",
     "text": [
      "Model: \"sequential_40\"\n",
      "_________________________________________________________________\n",
      "Layer (type)                 Output Shape              Param #   \n",
      "=================================================================\n",
      "embedding_40 (Embedding)     (None, 512, 256)          9789184   \n",
      "_________________________________________________________________\n",
      "conv1d_12 (Conv1D)           (None, 510, 32)           24608     \n",
      "_________________________________________________________________\n",
      "global_max_pooling1d_8 (Glob (None, 32)                0         \n",
      "_________________________________________________________________\n",
      "dense_58 (Dense)             (None, 64)                2112      \n",
      "_________________________________________________________________\n",
      "dropout_33 (Dropout)         (None, 64)                0         \n",
      "_________________________________________________________________\n",
      "dense_59 (Dense)             (None, 3)                 195       \n",
      "=================================================================\n",
      "Total params: 9,816,099\n",
      "Trainable params: 9,816,099\n",
      "Non-trainable params: 0\n",
      "_________________________________________________________________\n",
      "None\n",
      "Train on 9813 samples, validate on 4206 samples\n",
      "Epoch 1/200\n",
      "9696/9813 [============================>.] - ETA: 0s - loss: 1.1025 - acc: 0.3361\n",
      "Epoch 00001: val_acc improved from -inf to 0.33214, saving model to model_3-content-01-0.33.h5\n",
      "9813/9813 [==============================] - 12s 1ms/sample - loss: 1.1026 - acc: 0.3358 - val_loss: 1.1006 - val_acc: 0.3321\n",
      "Epoch 2/200\n",
      "9728/9813 [============================>.] - ETA: 0s - loss: 1.0833 - acc: 0.3969\n",
      "Epoch 00002: val_acc improved from 0.33214 to 0.33357, saving model to model_3-content-02-0.33.h5\n",
      "9813/9813 [==============================] - 5s 514us/sample - loss: 1.0834 - acc: 0.3970 - val_loss: 1.1100 - val_acc: 0.3336\n",
      "Epoch 3/200\n",
      "9792/9813 [============================>.] - ETA: 0s - loss: 1.0276 - acc: 0.4809\n",
      "Epoch 00003: val_acc improved from 0.33357 to 0.34308, saving model to model_3-content-03-0.34.h5\n",
      "9813/9813 [==============================] - 5s 513us/sample - loss: 1.0276 - acc: 0.4810 - val_loss: 1.1410 - val_acc: 0.3431\n",
      "Epoch 00003: early stopping\n"
     ]
    },
    {
     "data": {
      "image/png": "[encoded data removed]",
      "text/plain": [
       "<Figure size 864x288 with 2 Axes>"
      ]
     },
     "metadata": {
      "needs_background": "light"
     },
     "output_type": "display_data"
    }
   ],
   "source": [
    "batch_size = 32\n",
    "epoch = 200\n",
    "\n",
    "filepath=\"model_3-content-{epoch:02d}-{val_acc:.2f}.h5\"\n",
    "\n",
    "callbacks = [\n",
    "    EarlyStopping(monitor='val_loss', mode='min', verbose=1, patience=2),\n",
    "    ModelCheckpoint(filepath, monitor='val_acc', verbose=1, save_best_only=True, mode='max')\n",
    "]\n",
    "\n",
    "model_3 = sequentialModel_3(input_length, vocab_size, 256)\n",
    "history = model_3.fit(\n",
    "    train_padded, label_train, \n",
    "    epochs=epoch, batch_size=batch_size,\n",
    "    verbose=1, validation_data=(val_padded, label_val),\n",
    "    callbacks=callbacks\n",
    ")\n",
    "plotHistory(history)"
   ]
  },
  {
   "cell_type": "code",
   "execution_count": 157,
   "metadata": {},
   "outputs": [
    {
     "name": "stdout",
     "output_type": "stream",
     "text": [
      "Model: \"sequential_37\"\n",
      "_________________________________________________________________\n",
      "Layer (type)                 Output Shape              Param #   \n",
      "=================================================================\n",
      "embedding_37 (Embedding)     (None, 512, 128)          4866816   \n",
      "_________________________________________________________________\n",
      "spatial_dropout1d (SpatialDr (None, 512, 128)          0         \n",
      "_________________________________________________________________\n",
      "lstm_21 (LSTM)               (None, 196)               254800    \n",
      "_________________________________________________________________\n",
      "dense_53 (Dense)             (None, 3)                 591       \n",
      "=================================================================\n",
      "Total params: 5,122,207\n",
      "Trainable params: 5,122,207\n",
      "Non-trainable params: 0\n",
      "_________________________________________________________________\n",
      "None\n",
      "Train on 9813 samples, validate on 4206 samples\n",
      "Epoch 1/200\n",
      "9792/9813 [============================>.] - ETA: 0s - loss: 1.0998 - acc: 0.3362\n",
      "Epoch 00001: val_acc improved from -inf to 0.33024, saving model to model_4-content-01-0.33.h5\n",
      "9813/9813 [==============================] - 443s 45ms/sample - loss: 1.0999 - acc: 0.3363 - val_loss: 1.1009 - val_acc: 0.3302\n",
      "Epoch 2/200\n",
      "9792/9813 [============================>.] - ETA: 0s - loss: 1.0996 - acc: 0.3250\n",
      "Epoch 00002: val_acc did not improve from 0.33024\n",
      "9813/9813 [==============================] - 436s 44ms/sample - loss: 1.0996 - acc: 0.3249 - val_loss: 1.0989 - val_acc: 0.3302\n",
      "Epoch 3/200\n",
      "9792/9813 [============================>.] - ETA: 0s - loss: 1.0991 - acc: 0.3345\n",
      "Epoch 00003: val_acc did not improve from 0.33024\n",
      "9813/9813 [==============================] - 435s 44ms/sample - loss: 1.0991 - acc: 0.3347 - val_loss: 1.1003 - val_acc: 0.3229\n",
      "Epoch 4/200\n",
      "9792/9813 [============================>.] - ETA: 0s - loss: 1.0992 - acc: 0.3275\n",
      "Epoch 00004: val_acc did not improve from 0.33024\n",
      "9813/9813 [==============================] - 429s 44ms/sample - loss: 1.0992 - acc: 0.3274 - val_loss: 1.0997 - val_acc: 0.3300\n",
      "Epoch 00004: early stopping\n"
     ]
    },
    {
     "data": {
      "image/png": "[encoded data removed]",
      "text/plain": [
       "<Figure size 864x288 with 2 Axes>"
      ]
     },
     "metadata": {
      "needs_background": "light"
     },
     "output_type": "display_data"
    }
   ],
   "source": [
    "batch_size = 32\n",
    "epoch = 200\n",
    "\n",
    "filepath=\"model_4-content-{epoch:02d}-{val_acc:.2f}.h5\"\n",
    "\n",
    "callbacks = [\n",
    "    EarlyStopping(monitor='val_loss', mode='min', verbose=1, patience=2),\n",
    "    ModelCheckpoint(filepath, monitor='val_acc', verbose=1, save_best_only=True, mode='max')\n",
    "]\n",
    "\n",
    "model_4 = sequentialModel_4(input_length, vocab_size, 128)\n",
    "history = model_4.fit(\n",
    "    train_padded, label_train, \n",
    "    epochs=epoch, batch_size=batch_size,\n",
    "    verbose=1, validation_data=(val_padded, label_val),\n",
    "    callbacks=callbacks\n",
    ")\n",
    "plotHistory(history)"
   ]
  }
 ],
 "metadata": {
  "kernelspec": {
   "display_name": "Python 3",
   "language": "python",
   "name": "python3"
  },
  "language_info": {
   "codemirror_mode": {
    "name": "ipython",
    "version": 3
   },
   "file_extension": ".py",
   "mimetype": "text/x-python",
   "name": "python",
   "nbconvert_exporter": "python",
   "pygments_lexer": "ipython3",
   "version": "3.7.9"
  }
 },
 "nbformat": 4,
 "nbformat_minor": 4
}
